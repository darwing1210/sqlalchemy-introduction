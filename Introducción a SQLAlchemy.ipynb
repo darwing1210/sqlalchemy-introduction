{
 "cells": [
  {
   "cell_type": "markdown",
   "metadata": {},
   "source": [
    "# Introducción a SQLAlchemy"
   ]
  },
  {
   "cell_type": "markdown",
   "metadata": {},
   "source": [
    "Todo este tutorial fue tomado de https://towardsdatascience.com/sqlalchemy-python-tutorial-79a577141a91 escrito por Vinay Kudari y algunos conceptos tomados de otros blogs."
   ]
  },
  {
   "cell_type": "markdown",
   "metadata": {},
   "source": [
    "# Antes de empezar\n",
    "* Es una charla introductoria\n",
    "* Estará enfocado en las bases de SQLAlchemy Core\n",
    "\n",
    "### Suposiciones \n",
    "\n",
    "* Tienes conocimientos básicos de Python\n",
    "* Tienes conocimientos básicos de SQL\n",
    "* Tienes un entorno de Python instalado"
   ]
  },
  {
   "cell_type": "markdown",
   "metadata": {},
   "source": [
    "# Introducción"
   ]
  },
  {
   "cell_type": "markdown",
   "metadata": {},
   "source": [
    "- Estamos rodeados de datos \n",
    "- Necesitamos acceso a esos datos de manera rápida y fácil, no importa si desarrollas web, móvil o desktop\n",
    "- Las base de datos relacionales son las mas comunes"
   ]
  },
  {
   "cell_type": "markdown",
   "metadata": {},
   "source": [
    "## ¿Qué es SQL?"
   ]
  },
  {
   "cell_type": "markdown",
   "metadata": {},
   "source": [
    "- SQL es un lenguaje estándar para almacenar, manipular y recuperar datos en bases de datos. Significa \"Structured query language\" (SQL)\n",
    "- Se puede volver complicado integrar con el código de nuestras aplicaciones, ya que requeriria del manejo de strings (RAW code) y no es la solución mas segura."
   ]
  },
  {
   "cell_type": "markdown",
   "metadata": {},
   "source": [
    "## ¿Qué es SQLAlchemy?"
   ]
  },
  {
   "cell_type": "markdown",
   "metadata": {},
   "source": [
    "- Es una librería de Python creada por Mike Bayer in 2005, que sin importar el dialecto, conecta la programación tradicional y las BD.\n",
    "- Es considerada la herramienta por defecto para trabajar con Bases de datos en Python.\n",
    "- Nos permite crear nuestros modelos de datos y consultas de una manera que se siente igual a clases y sentencias de Python\n",
    "- Bases de datos soportadas por SQLAlchemy\n",
    "- Hay dos modos de uso SQL Expression Language (conocido como SQLAlchemy Core) y ORM (Object-relational mapping)"
   ]
  },
  {
   "cell_type": "markdown",
   "metadata": {},
   "source": [
    "### SQLAlchemy Core vs SQLAlchemy ORM"
   ]
  },
  {
   "cell_type": "markdown",
   "metadata": {},
   "source": [
    "- Core es una abstracción del lenguaje SQL, esta enfocado en el esquema actual de la BD (tablas, filas, columnas, indices, etc)\n",
    "- ORM esta mas enfocado en el modelo de la aplicación manteniendo el estado de los objetos  (lógica de negocios)\n",
    "- Se pueden usar ambos al mismo tiempo ya que el ORM esta basado en SQLAlchemy Core"
   ]
  },
  {
   "cell_type": "markdown",
   "metadata": {},
   "source": [
    "## Instalación"
   ]
  },
  {
   "cell_type": "markdown",
   "metadata": {},
   "source": [
    "* Si usas anaconda o conda\n",
    "\n",
    "```bash\n",
    "conda install -c anaconda sqlalchemy \n",
    "```"
   ]
  },
  {
   "cell_type": "markdown",
   "metadata": {},
   "source": [
    "* Si usas pip\n",
    "\n",
    "```bash\n",
    "pip install sqlalchemy\n",
    "```"
   ]
  },
  {
   "cell_type": "markdown",
   "metadata": {},
   "source": [
    "## Creando una base de datos"
   ]
  },
  {
   "cell_type": "code",
   "execution_count": 1,
   "metadata": {},
   "outputs": [],
   "source": [
    "import sqlalchemy as db\n",
    "import pandas as pd"
   ]
  },
  {
   "cell_type": "code",
   "execution_count": 66,
   "metadata": {},
   "outputs": [],
   "source": [
    "engine = db.create_engine('sqlite:///test.sqlite') # Crea test.sqlite automaticamente\n",
    "connection = engine.connect()\n",
    "metadata = db.MetaData()\n",
    "\n",
    "employee = db.Table('employee', metadata,\n",
    "    db.Column('id', db.Integer()),\n",
    "    db.Column('name', db.String(255), nullable=False),\n",
    "    db.Column('salary', db.Float(), default=100.0),\n",
    "    db.Column('active', db.Boolean(), default=True)\n",
    ")\n",
    "\n",
    "metadata.create_all(engine) # Crea la tabla"
   ]
  },
  {
   "cell_type": "markdown",
   "metadata": {},
   "source": [
    "## Insertando datos"
   ]
  },
  {
   "cell_type": "code",
   "execution_count": 67,
   "metadata": {},
   "outputs": [],
   "source": [
    "# Uno por uno\n",
    "query = db.insert(employee).values(id=1, name='Maria', salary=6000.00, active=True)\n",
    "ResultProxy = connection.execute(query)"
   ]
  },
  {
   "cell_type": "code",
   "execution_count": 68,
   "metadata": {},
   "outputs": [],
   "source": [
    "# Insertando varios al mismo tiempo\n",
    "query = db.insert(employee) \n",
    "values_list = [\n",
    "    {'id':2, 'name':'Jose', 'salary':8000, 'active': False},\n",
    "    {'id':3, 'name':'Carlos', 'salary':7000, 'active': True}\n",
    "]\n",
    "ResultProxy = connection.execute(query, values_list)"
   ]
  },
  {
   "cell_type": "code",
   "execution_count": 69,
   "metadata": {},
   "outputs": [
    {
     "data": {
      "text/html": [
       "<div>\n",
       "<style scoped>\n",
       "    .dataframe tbody tr th:only-of-type {\n",
       "        vertical-align: middle;\n",
       "    }\n",
       "\n",
       "    .dataframe tbody tr th {\n",
       "        vertical-align: top;\n",
       "    }\n",
       "\n",
       "    .dataframe thead th {\n",
       "        text-align: right;\n",
       "    }\n",
       "</style>\n",
       "<table border=\"1\" class=\"dataframe\">\n",
       "  <thead>\n",
       "    <tr style=\"text-align: right;\">\n",
       "      <th></th>\n",
       "      <th>id</th>\n",
       "      <th>name</th>\n",
       "      <th>salary</th>\n",
       "      <th>active</th>\n",
       "    </tr>\n",
       "  </thead>\n",
       "  <tbody>\n",
       "    <tr>\n",
       "      <th>0</th>\n",
       "      <td>1</td>\n",
       "      <td>Maria</td>\n",
       "      <td>6000.0</td>\n",
       "      <td>True</td>\n",
       "    </tr>\n",
       "    <tr>\n",
       "      <th>1</th>\n",
       "      <td>2</td>\n",
       "      <td>Jose</td>\n",
       "      <td>8000.0</td>\n",
       "      <td>False</td>\n",
       "    </tr>\n",
       "    <tr>\n",
       "      <th>2</th>\n",
       "      <td>3</td>\n",
       "      <td>Carlos</td>\n",
       "      <td>7000.0</td>\n",
       "      <td>True</td>\n",
       "    </tr>\n",
       "  </tbody>\n",
       "</table>\n",
       "</div>"
      ],
      "text/plain": [
       "   id    name  salary  active\n",
       "0   1   Maria  6000.0    True\n",
       "1   2    Jose  8000.0   False\n",
       "2   3  Carlos  7000.0    True"
      ]
     },
     "execution_count": 69,
     "metadata": {},
     "output_type": "execute_result"
    }
   ],
   "source": [
    "results = connection.execute(db.select([employee])).fetchall()\n",
    "df = pd.DataFrame(results)\n",
    "# Obtenemos las columnas del primer resultado\n",
    "df.columns = results[0].keys()\n",
    "df.head()"
   ]
  },
  {
   "cell_type": "markdown",
   "metadata": {},
   "source": [
    "## Conectando a una base de datos"
   ]
  },
  {
   "cell_type": "markdown",
   "metadata": {},
   "source": [
    "SQLAlchemy se puede usar para cargar tablas automáticamente desde una base de datos usando algo llamado reflexión. La reflexión es el proceso de leer la base de datos y construir los metadatos basados en esa información."
   ]
  },
  {
   "cell_type": "code",
   "execution_count": 70,
   "metadata": {},
   "outputs": [],
   "source": [
    "import sqlalchemy as db"
   ]
  },
  {
   "cell_type": "code",
   "execution_count": 74,
   "metadata": {},
   "outputs": [],
   "source": [
    "engine = db.create_engine('sqlite:///census.sqlite')\n",
    "connection = engine.connect()\n",
    "metadata = db.MetaData()\n",
    "census = db.Table('census', metadata, autoload=True, autoload_with=engine)"
   ]
  },
  {
   "cell_type": "markdown",
   "metadata": {},
   "source": [
    "Aquí puedes encontrar ejemplos de distintas configuraciones: https://docs.sqlalchemy.org/en/latest/core/engines.html#postgresql"
   ]
  },
  {
   "cell_type": "code",
   "execution_count": 75,
   "metadata": {},
   "outputs": [
    {
     "name": "stdout",
     "output_type": "stream",
     "text": [
      "['state', 'sex', 'age', 'pop2000', 'pop2008']\n"
     ]
    }
   ],
   "source": [
    "# Mostrando las columnas\n",
    "print(census.columns.keys())"
   ]
  },
  {
   "cell_type": "code",
   "execution_count": 76,
   "metadata": {},
   "outputs": [
    {
     "name": "stdout",
     "output_type": "stream",
     "text": [
      "Table('census', MetaData(bind=None), Column('state', VARCHAR(length=30), table=<census>), Column('sex', VARCHAR(length=1), table=<census>), Column('age', INTEGER(), table=<census>), Column('pop2000', INTEGER(), table=<census>), Column('pop2008', INTEGER(), table=<census>), schema=None)\n"
     ]
    }
   ],
   "source": [
    "# Mostrando toda la metadata de la tabla\n",
    "print(repr(metadata.tables['census']))"
   ]
  },
  {
   "cell_type": "markdown",
   "metadata": {},
   "source": [
    "## Consultando"
   ]
  },
  {
   "cell_type": "code",
   "execution_count": 82,
   "metadata": {},
   "outputs": [],
   "source": [
    "# Equivalente a 'SELECT * FROM census'\n",
    "query = db.select([census])"
   ]
  },
  {
   "cell_type": "code",
   "execution_count": 83,
   "metadata": {},
   "outputs": [],
   "source": [
    "ResultProxy = connection.execute(query)"
   ]
  },
  {
   "cell_type": "markdown",
   "metadata": {},
   "source": [
    "ResultProxy: el objeto devuelto por el método `.execute()`. Puede usarse de varias maneras para obtener los datos devueltos por la consulta."
   ]
  },
  {
   "cell_type": "code",
   "execution_count": 84,
   "metadata": {},
   "outputs": [],
   "source": [
    "ResultSet = ResultProxy.fetchall()"
   ]
  },
  {
   "cell_type": "markdown",
   "metadata": {},
   "source": [
    "ResultSet: los datos reales solicitados en la consulta cuando se utiliza un método de búsqueda como `.fetchall()` en un ResultProxy."
   ]
  },
  {
   "cell_type": "code",
   "execution_count": 85,
   "metadata": {},
   "outputs": [
    {
     "data": {
      "text/plain": [
       "[('Illinois', 'M', 0, 89600, 95012),\n",
       " ('Illinois', 'M', 1, 88445, 91829),\n",
       " ('Illinois', 'M', 2, 88729, 89547),\n",
       " ('Illinois', 'M', 3, 88868, 90037),\n",
       " ('Illinois', 'M', 4, 91947, 91111)]"
      ]
     },
     "execution_count": 85,
     "metadata": {},
     "output_type": "execute_result"
    }
   ],
   "source": [
    "ResultSet[:5]"
   ]
  },
  {
   "cell_type": "code",
   "execution_count": 86,
   "metadata": {},
   "outputs": [
    {
     "data": {
      "text/html": [
       "<div>\n",
       "<style scoped>\n",
       "    .dataframe tbody tr th:only-of-type {\n",
       "        vertical-align: middle;\n",
       "    }\n",
       "\n",
       "    .dataframe tbody tr th {\n",
       "        vertical-align: top;\n",
       "    }\n",
       "\n",
       "    .dataframe thead th {\n",
       "        text-align: right;\n",
       "    }\n",
       "</style>\n",
       "<table border=\"1\" class=\"dataframe\">\n",
       "  <thead>\n",
       "    <tr style=\"text-align: right;\">\n",
       "      <th></th>\n",
       "      <th>state</th>\n",
       "      <th>sex</th>\n",
       "      <th>age</th>\n",
       "      <th>pop2000</th>\n",
       "      <th>pop2008</th>\n",
       "    </tr>\n",
       "  </thead>\n",
       "  <tbody>\n",
       "    <tr>\n",
       "      <th>0</th>\n",
       "      <td>Illinois</td>\n",
       "      <td>M</td>\n",
       "      <td>0</td>\n",
       "      <td>89600</td>\n",
       "      <td>95012</td>\n",
       "    </tr>\n",
       "    <tr>\n",
       "      <th>1</th>\n",
       "      <td>Illinois</td>\n",
       "      <td>M</td>\n",
       "      <td>1</td>\n",
       "      <td>88445</td>\n",
       "      <td>91829</td>\n",
       "    </tr>\n",
       "    <tr>\n",
       "      <th>2</th>\n",
       "      <td>Illinois</td>\n",
       "      <td>M</td>\n",
       "      <td>2</td>\n",
       "      <td>88729</td>\n",
       "      <td>89547</td>\n",
       "    </tr>\n",
       "    <tr>\n",
       "      <th>3</th>\n",
       "      <td>Illinois</td>\n",
       "      <td>M</td>\n",
       "      <td>3</td>\n",
       "      <td>88868</td>\n",
       "      <td>90037</td>\n",
       "    </tr>\n",
       "    <tr>\n",
       "      <th>4</th>\n",
       "      <td>Illinois</td>\n",
       "      <td>M</td>\n",
       "      <td>4</td>\n",
       "      <td>91947</td>\n",
       "      <td>91111</td>\n",
       "    </tr>\n",
       "  </tbody>\n",
       "</table>\n",
       "</div>"
      ],
      "text/plain": [
       "      state sex  age  pop2000  pop2008\n",
       "0  Illinois   M    0    89600    95012\n",
       "1  Illinois   M    1    88445    91829\n",
       "2  Illinois   M    2    88729    89547\n",
       "3  Illinois   M    3    88868    90037\n",
       "4  Illinois   M    4    91947    91111"
      ]
     },
     "execution_count": 86,
     "metadata": {},
     "output_type": "execute_result"
    }
   ],
   "source": [
    "# Convirtiendo a df\n",
    "df = pd.DataFrame(ResultSet)\n",
    "df.columns = ResultSet[0].keys()\n",
    "df.head()"
   ]
  },
  {
   "cell_type": "markdown",
   "metadata": {},
   "source": [
    "### Filtrando"
   ]
  },
  {
   "cell_type": "markdown",
   "metadata": {},
   "source": [
    "#### where"
   ]
  },
  {
   "cell_type": "code",
   "execution_count": 87,
   "metadata": {},
   "outputs": [
    {
     "data": {
      "text/plain": [
       "[('Illinois', 'F', 0, 85910, 90286),\n",
       " ('Illinois', 'F', 1, 84396, 88126),\n",
       " ('Illinois', 'F', 2, 84764, 86291)]"
      ]
     },
     "execution_count": 87,
     "metadata": {},
     "output_type": "execute_result"
    }
   ],
   "source": [
    "# SELECT * FROM census WHERE sex = F\n",
    "query = db.select([census]).where(census.columns.sex == 'F')\n",
    "result = connection.execute(query).fetchall()\n",
    "result[:3]"
   ]
  },
  {
   "cell_type": "markdown",
   "metadata": {},
   "source": [
    "#### in"
   ]
  },
  {
   "cell_type": "code",
   "execution_count": 89,
   "metadata": {},
   "outputs": [
    {
     "data": {
      "text/plain": [
       "[('New York', 'M'),\n",
       " ('New York', 'M'),\n",
       " ('New York', 'M'),\n",
       " ('New York', 'M'),\n",
       " ('New York', 'M'),\n",
       " ('New York', 'M'),\n",
       " ('New York', 'M'),\n",
       " ('New York', 'M'),\n",
       " ('New York', 'M'),\n",
       " ('New York', 'M'),\n",
       " ('New York', 'M'),\n",
       " ('New York', 'M'),\n",
       " ('New York', 'M'),\n",
       " ('New York', 'M'),\n",
       " ('New York', 'M'),\n",
       " ('New York', 'M'),\n",
       " ('New York', 'M'),\n",
       " ('New York', 'M'),\n",
       " ('New York', 'M'),\n",
       " ('New York', 'M'),\n",
       " ('New York', 'M'),\n",
       " ('New York', 'M'),\n",
       " ('New York', 'M'),\n",
       " ('New York', 'M'),\n",
       " ('New York', 'M'),\n",
       " ('New York', 'M'),\n",
       " ('New York', 'M'),\n",
       " ('New York', 'M'),\n",
       " ('New York', 'M'),\n",
       " ('New York', 'M'),\n",
       " ('New York', 'M'),\n",
       " ('New York', 'M'),\n",
       " ('New York', 'M'),\n",
       " ('New York', 'M'),\n",
       " ('New York', 'M'),\n",
       " ('New York', 'M'),\n",
       " ('New York', 'M'),\n",
       " ('New York', 'M'),\n",
       " ('New York', 'M'),\n",
       " ('New York', 'M'),\n",
       " ('New York', 'M'),\n",
       " ('New York', 'M'),\n",
       " ('New York', 'M'),\n",
       " ('New York', 'M'),\n",
       " ('New York', 'M'),\n",
       " ('New York', 'M'),\n",
       " ('New York', 'M'),\n",
       " ('New York', 'M'),\n",
       " ('New York', 'M'),\n",
       " ('New York', 'M'),\n",
       " ('New York', 'M'),\n",
       " ('New York', 'M'),\n",
       " ('New York', 'M'),\n",
       " ('New York', 'M'),\n",
       " ('New York', 'M'),\n",
       " ('New York', 'M'),\n",
       " ('New York', 'M'),\n",
       " ('New York', 'M'),\n",
       " ('New York', 'M'),\n",
       " ('New York', 'M'),\n",
       " ('New York', 'M'),\n",
       " ('New York', 'M'),\n",
       " ('New York', 'M'),\n",
       " ('New York', 'M'),\n",
       " ('New York', 'M'),\n",
       " ('New York', 'M'),\n",
       " ('New York', 'M'),\n",
       " ('New York', 'M'),\n",
       " ('New York', 'M'),\n",
       " ('New York', 'M'),\n",
       " ('New York', 'M'),\n",
       " ('New York', 'M'),\n",
       " ('New York', 'M'),\n",
       " ('New York', 'M'),\n",
       " ('New York', 'M'),\n",
       " ('New York', 'M'),\n",
       " ('New York', 'M'),\n",
       " ('New York', 'M'),\n",
       " ('New York', 'M'),\n",
       " ('New York', 'M'),\n",
       " ('New York', 'M'),\n",
       " ('New York', 'M'),\n",
       " ('New York', 'M'),\n",
       " ('New York', 'M'),\n",
       " ('New York', 'M'),\n",
       " ('New York', 'M'),\n",
       " ('New York', 'F'),\n",
       " ('New York', 'F'),\n",
       " ('New York', 'F'),\n",
       " ('New York', 'F'),\n",
       " ('New York', 'F'),\n",
       " ('New York', 'F'),\n",
       " ('New York', 'F'),\n",
       " ('New York', 'F'),\n",
       " ('New York', 'F'),\n",
       " ('New York', 'F'),\n",
       " ('New York', 'F'),\n",
       " ('New York', 'F'),\n",
       " ('New York', 'F'),\n",
       " ('New York', 'F'),\n",
       " ('New York', 'F'),\n",
       " ('New York', 'F'),\n",
       " ('New York', 'F'),\n",
       " ('New York', 'F'),\n",
       " ('New York', 'F'),\n",
       " ('New York', 'F'),\n",
       " ('New York', 'F'),\n",
       " ('New York', 'F'),\n",
       " ('New York', 'F'),\n",
       " ('New York', 'F'),\n",
       " ('New York', 'F'),\n",
       " ('New York', 'F'),\n",
       " ('New York', 'F'),\n",
       " ('New York', 'F'),\n",
       " ('New York', 'F'),\n",
       " ('New York', 'F'),\n",
       " ('New York', 'F'),\n",
       " ('New York', 'F'),\n",
       " ('New York', 'F'),\n",
       " ('New York', 'F'),\n",
       " ('New York', 'F'),\n",
       " ('New York', 'F'),\n",
       " ('New York', 'F'),\n",
       " ('New York', 'F'),\n",
       " ('New York', 'F'),\n",
       " ('New York', 'F'),\n",
       " ('New York', 'F'),\n",
       " ('New York', 'F'),\n",
       " ('New York', 'F'),\n",
       " ('New York', 'F'),\n",
       " ('New York', 'F'),\n",
       " ('New York', 'F'),\n",
       " ('New York', 'F'),\n",
       " ('New York', 'F'),\n",
       " ('New York', 'F'),\n",
       " ('New York', 'F'),\n",
       " ('New York', 'F'),\n",
       " ('New York', 'F'),\n",
       " ('New York', 'F'),\n",
       " ('New York', 'F'),\n",
       " ('New York', 'F'),\n",
       " ('New York', 'F'),\n",
       " ('New York', 'F'),\n",
       " ('New York', 'F'),\n",
       " ('New York', 'F'),\n",
       " ('New York', 'F'),\n",
       " ('New York', 'F'),\n",
       " ('New York', 'F'),\n",
       " ('New York', 'F'),\n",
       " ('New York', 'F'),\n",
       " ('New York', 'F'),\n",
       " ('New York', 'F'),\n",
       " ('New York', 'F'),\n",
       " ('New York', 'F'),\n",
       " ('New York', 'F'),\n",
       " ('New York', 'F'),\n",
       " ('New York', 'F'),\n",
       " ('New York', 'F'),\n",
       " ('New York', 'F'),\n",
       " ('New York', 'F'),\n",
       " ('New York', 'F'),\n",
       " ('New York', 'F'),\n",
       " ('New York', 'F'),\n",
       " ('New York', 'F'),\n",
       " ('New York', 'F'),\n",
       " ('New York', 'F'),\n",
       " ('New York', 'F'),\n",
       " ('New York', 'F'),\n",
       " ('New York', 'F'),\n",
       " ('New York', 'F'),\n",
       " ('New York', 'F'),\n",
       " ('New York', 'F'),\n",
       " ('Texas', 'M'),\n",
       " ('Texas', 'M'),\n",
       " ('Texas', 'M'),\n",
       " ('Texas', 'M'),\n",
       " ('Texas', 'M'),\n",
       " ('Texas', 'M'),\n",
       " ('Texas', 'M'),\n",
       " ('Texas', 'M'),\n",
       " ('Texas', 'M'),\n",
       " ('Texas', 'M'),\n",
       " ('Texas', 'M'),\n",
       " ('Texas', 'M'),\n",
       " ('Texas', 'M'),\n",
       " ('Texas', 'M'),\n",
       " ('Texas', 'M'),\n",
       " ('Texas', 'M'),\n",
       " ('Texas', 'M'),\n",
       " ('Texas', 'M'),\n",
       " ('Texas', 'M'),\n",
       " ('Texas', 'M'),\n",
       " ('Texas', 'M'),\n",
       " ('Texas', 'M'),\n",
       " ('Texas', 'M'),\n",
       " ('Texas', 'M'),\n",
       " ('Texas', 'M'),\n",
       " ('Texas', 'M'),\n",
       " ('Texas', 'M'),\n",
       " ('Texas', 'M'),\n",
       " ('Texas', 'M'),\n",
       " ('Texas', 'M'),\n",
       " ('Texas', 'M'),\n",
       " ('Texas', 'M'),\n",
       " ('Texas', 'M'),\n",
       " ('Texas', 'M'),\n",
       " ('Texas', 'M'),\n",
       " ('Texas', 'M'),\n",
       " ('Texas', 'M'),\n",
       " ('Texas', 'M'),\n",
       " ('Texas', 'M'),\n",
       " ('Texas', 'M'),\n",
       " ('Texas', 'M'),\n",
       " ('Texas', 'M'),\n",
       " ('Texas', 'M'),\n",
       " ('Texas', 'M'),\n",
       " ('Texas', 'M'),\n",
       " ('Texas', 'M'),\n",
       " ('Texas', 'M'),\n",
       " ('Texas', 'M'),\n",
       " ('Texas', 'M'),\n",
       " ('Texas', 'M'),\n",
       " ('Texas', 'M'),\n",
       " ('Texas', 'M'),\n",
       " ('Texas', 'M'),\n",
       " ('Texas', 'M'),\n",
       " ('Texas', 'M'),\n",
       " ('Texas', 'M'),\n",
       " ('Texas', 'M'),\n",
       " ('Texas', 'M'),\n",
       " ('Texas', 'M'),\n",
       " ('Texas', 'M'),\n",
       " ('Texas', 'M'),\n",
       " ('Texas', 'M'),\n",
       " ('Texas', 'M'),\n",
       " ('Texas', 'M'),\n",
       " ('Texas', 'M'),\n",
       " ('Texas', 'M'),\n",
       " ('Texas', 'M'),\n",
       " ('Texas', 'M'),\n",
       " ('Texas', 'M'),\n",
       " ('Texas', 'M'),\n",
       " ('Texas', 'M'),\n",
       " ('Texas', 'M'),\n",
       " ('Texas', 'M'),\n",
       " ('Texas', 'M'),\n",
       " ('Texas', 'M'),\n",
       " ('Texas', 'M'),\n",
       " ('Texas', 'M'),\n",
       " ('Texas', 'M'),\n",
       " ('Texas', 'M'),\n",
       " ('Texas', 'M'),\n",
       " ('Texas', 'M'),\n",
       " ('Texas', 'M'),\n",
       " ('Texas', 'M'),\n",
       " ('Texas', 'M'),\n",
       " ('Texas', 'M'),\n",
       " ('Texas', 'M'),\n",
       " ('Texas', 'F'),\n",
       " ('Texas', 'F'),\n",
       " ('Texas', 'F'),\n",
       " ('Texas', 'F'),\n",
       " ('Texas', 'F'),\n",
       " ('Texas', 'F'),\n",
       " ('Texas', 'F'),\n",
       " ('Texas', 'F'),\n",
       " ('Texas', 'F'),\n",
       " ('Texas', 'F'),\n",
       " ('Texas', 'F'),\n",
       " ('Texas', 'F'),\n",
       " ('Texas', 'F'),\n",
       " ('Texas', 'F'),\n",
       " ('Texas', 'F'),\n",
       " ('Texas', 'F'),\n",
       " ('Texas', 'F'),\n",
       " ('Texas', 'F'),\n",
       " ('Texas', 'F'),\n",
       " ('Texas', 'F'),\n",
       " ('Texas', 'F'),\n",
       " ('Texas', 'F'),\n",
       " ('Texas', 'F'),\n",
       " ('Texas', 'F'),\n",
       " ('Texas', 'F'),\n",
       " ('Texas', 'F'),\n",
       " ('Texas', 'F'),\n",
       " ('Texas', 'F'),\n",
       " ('Texas', 'F'),\n",
       " ('Texas', 'F'),\n",
       " ('Texas', 'F'),\n",
       " ('Texas', 'F'),\n",
       " ('Texas', 'F'),\n",
       " ('Texas', 'F'),\n",
       " ('Texas', 'F'),\n",
       " ('Texas', 'F'),\n",
       " ('Texas', 'F'),\n",
       " ('Texas', 'F'),\n",
       " ('Texas', 'F'),\n",
       " ('Texas', 'F'),\n",
       " ('Texas', 'F'),\n",
       " ('Texas', 'F'),\n",
       " ('Texas', 'F'),\n",
       " ('Texas', 'F'),\n",
       " ('Texas', 'F'),\n",
       " ('Texas', 'F'),\n",
       " ('Texas', 'F'),\n",
       " ('Texas', 'F'),\n",
       " ('Texas', 'F'),\n",
       " ('Texas', 'F'),\n",
       " ('Texas', 'F'),\n",
       " ('Texas', 'F'),\n",
       " ('Texas', 'F'),\n",
       " ('Texas', 'F'),\n",
       " ('Texas', 'F'),\n",
       " ('Texas', 'F'),\n",
       " ('Texas', 'F'),\n",
       " ('Texas', 'F'),\n",
       " ('Texas', 'F'),\n",
       " ('Texas', 'F'),\n",
       " ('Texas', 'F'),\n",
       " ('Texas', 'F'),\n",
       " ('Texas', 'F'),\n",
       " ('Texas', 'F'),\n",
       " ('Texas', 'F'),\n",
       " ('Texas', 'F'),\n",
       " ('Texas', 'F'),\n",
       " ('Texas', 'F'),\n",
       " ('Texas', 'F'),\n",
       " ('Texas', 'F'),\n",
       " ('Texas', 'F'),\n",
       " ('Texas', 'F'),\n",
       " ('Texas', 'F'),\n",
       " ('Texas', 'F'),\n",
       " ('Texas', 'F'),\n",
       " ('Texas', 'F'),\n",
       " ('Texas', 'F'),\n",
       " ('Texas', 'F'),\n",
       " ('Texas', 'F'),\n",
       " ('Texas', 'F'),\n",
       " ('Texas', 'F'),\n",
       " ('Texas', 'F'),\n",
       " ('Texas', 'F'),\n",
       " ('Texas', 'F'),\n",
       " ('Texas', 'F'),\n",
       " ('Texas', 'F')]"
      ]
     },
     "execution_count": 89,
     "metadata": {},
     "output_type": "execute_result"
    }
   ],
   "source": [
    "# SELECT state, sex FROM census WHERE state IN (Texas, New York)\n",
    "query = db.select(\n",
    "    [census.columns.state, census.columns.sex]\n",
    ").where(census.columns.state.in_(['Texas', 'New York']))\n",
    "\n",
    "result = connection.execute(query).fetchall()\n",
    "result"
   ]
  },
  {
   "cell_type": "markdown",
   "metadata": {},
   "source": [
    "#### and, or, not"
   ]
  },
  {
   "cell_type": "code",
   "execution_count": 91,
   "metadata": {},
   "outputs": [
    {
     "data": {
      "text/plain": [
       "[('California', 'F', 0, 239605, 274356),\n",
       " ('California', 'F', 1, 236543, 269140),\n",
       " ('California', 'F', 2, 240010, 262556),\n",
       " ('California', 'F', 3, 245739, 259061),\n",
       " ('California', 'F', 4, 254522, 255544),\n",
       " ('California', 'F', 5, 260264, 253899),\n",
       " ('California', 'F', 6, 261296, 247677),\n",
       " ('California', 'F', 7, 264083, 250117),\n",
       " ('California', 'F', 8, 270447, 233293),\n",
       " ('California', 'F', 9, 271482, 231261),\n",
       " ('California', 'F', 10, 270567, 235225),\n",
       " ('California', 'F', 11, 256656, 240906),\n",
       " ('California', 'F', 12, 249887, 249456),\n",
       " ('California', 'F', 13, 242724, 255296),\n",
       " ('California', 'F', 14, 240752, 256673),\n",
       " ('California', 'F', 15, 240170, 259496),\n",
       " ('California', 'F', 16, 233186, 266794),\n",
       " ('California', 'F', 17, 235767, 269445),\n",
       " ('California', 'F', 18, 234949, 285759),\n",
       " ('California', 'F', 19, 233477, 264961),\n",
       " ('California', 'F', 20, 233532, 257736),\n",
       " ('California', 'F', 21, 223990, 254077),\n",
       " ('California', 'F', 22, 222035, 258806),\n",
       " ('California', 'F', 23, 227742, 264302),\n",
       " ('California', 'F', 24, 228401, 260631),\n",
       " ('California', 'F', 25, 238602, 270307),\n",
       " ('California', 'F', 26, 233133, 256956),\n",
       " ('California', 'F', 27, 240008, 254407),\n",
       " ('California', 'F', 28, 249185, 255369),\n",
       " ('California', 'F', 29, 266010, 246907),\n",
       " ('California', 'F', 30, 278894, 242518),\n",
       " ('California', 'F', 31, 260916, 243900),\n",
       " ('California', 'F', 32, 256168, 238842),\n",
       " ('California', 'F', 33, 252784, 248358),\n",
       " ('California', 'F', 34, 256283, 242423),\n",
       " ('California', 'F', 35, 276234, 247199),\n",
       " ('California', 'F', 36, 277592, 253087),\n",
       " ('California', 'F', 37, 276277, 266187),\n",
       " ('California', 'F', 38, 275129, 278712),\n",
       " ('California', 'F', 39, 276094, 260644),\n",
       " ('California', 'F', 40, 283554, 256169),\n",
       " ('California', 'F', 41, 265614, 251496),\n",
       " ('California', 'F', 42, 265895, 253487),\n",
       " ('California', 'F', 43, 263355, 270406),\n",
       " ('California', 'F', 44, 255016, 273711),\n",
       " ('California', 'F', 45, 256779, 270948),\n",
       " ('California', 'F', 46, 244172, 268760),\n",
       " ('California', 'F', 47, 236211, 268222),\n",
       " ('California', 'F', 48, 226391, 277301),\n",
       " ('California', 'F', 49, 221928, 258824),\n",
       " ('California', 'F', 50, 225414, 256885),\n",
       " ('California', 'F', 51, 212545, 255334),\n",
       " ('California', 'F', 52, 208500, 245397),\n",
       " ('California', 'F', 53, 215228, 246432),\n",
       " ('California', 'F', 54, 168388, 233568),\n",
       " ('California', 'F', 55, 166675, 224738),\n",
       " ('California', 'F', 56, 158368, 213252),\n",
       " ('California', 'F', 57, 160423, 207277),\n",
       " ('California', 'F', 58, 142287, 210606),\n",
       " ('California', 'F', 59, 133235, 196810),\n",
       " ('California', 'F', 60, 132033, 190184),\n",
       " ('California', 'F', 61, 123328, 199411),\n",
       " ('California', 'F', 62, 120982, 152835),\n",
       " ('California', 'F', 63, 114959, 151873),\n",
       " ('California', 'F', 64, 111942, 142860),\n",
       " ('California', 'F', 65, 113547, 146439),\n",
       " ('California', 'F', 66, 104910, 130401),\n",
       " ('California', 'F', 67, 103883, 122043),\n",
       " ('California', 'F', 68, 102061, 121648),\n",
       " ('California', 'F', 69, 103181, 113405),\n",
       " ('California', 'F', 70, 106514, 111154),\n",
       " ('California', 'F', 71, 99453, 104695),\n",
       " ('California', 'F', 72, 100574, 101407),\n",
       " ('California', 'F', 73, 99772, 102268),\n",
       " ('California', 'F', 74, 99390, 92902),\n",
       " ('California', 'F', 75, 99277, 91037),\n",
       " ('California', 'F', 76, 95046, 88027),\n",
       " ('California', 'F', 77, 90193, 87038),\n",
       " ('California', 'F', 78, 86911, 89363),\n",
       " ('California', 'F', 79, 81990, 80715),\n",
       " ('California', 'F', 80, 75849, 79785),\n",
       " ('California', 'F', 81, 65410, 76815),\n",
       " ('California', 'F', 82, 61518, 74131),\n",
       " ('California', 'F', 83, 54748, 71991),\n",
       " ('California', 'F', 84, 50746, 65912),\n",
       " ('California', 'F', 85, 294583, 400288)]"
      ]
     },
     "execution_count": 91,
     "metadata": {},
     "output_type": "execute_result"
    }
   ],
   "source": [
    "# SELECT * FROM census WHERE state = 'California' AND NOT sex = 'M'\n",
    "query = db.select([census]).where(\n",
    "    db.and_(\n",
    "        census.columns.state == 'California',\n",
    "        census.columns.sex != 'M'\n",
    "    )\n",
    ")\n",
    "\n",
    "result = connection.execute(query).fetchall()\n",
    "result"
   ]
  },
  {
   "cell_type": "markdown",
   "metadata": {},
   "source": [
    "#### order by"
   ]
  },
  {
   "cell_type": "code",
   "execution_count": 93,
   "metadata": {},
   "outputs": [
    {
     "data": {
      "text/plain": [
       "[('Wyoming', 'M', 84, 490, 643),\n",
       " ('Wyoming', 'M', 83, 515, 726),\n",
       " ('Wyoming', 'M', 82, 634, 792)]"
      ]
     },
     "execution_count": 93,
     "metadata": {},
     "output_type": "execute_result"
    }
   ],
   "source": [
    "# SELECT * FROM census ORDER BY State DESC, pop2000\n",
    "query = db.select([census]).order_by(\n",
    "    db.desc(census.columns.state), census.columns.pop2000)\n",
    "result = connection.execute(query).fetchall()\n",
    "result[:3]"
   ]
  },
  {
   "cell_type": "markdown",
   "metadata": {},
   "source": [
    "#### Funciones"
   ]
  },
  {
   "cell_type": "code",
   "execution_count": 94,
   "metadata": {},
   "outputs": [
    {
     "data": {
      "text/plain": [
       "302876613"
      ]
     },
     "execution_count": 94,
     "metadata": {},
     "output_type": "execute_result"
    }
   ],
   "source": [
    "# SELECT SUM(pop2008) FROM census\n",
    "query = db.select([db.func.sum(census.columns.pop2008)])\n",
    "result = connection.execute(query).scalar()\n",
    "result"
   ]
  },
  {
   "cell_type": "markdown",
   "metadata": {},
   "source": [
    "#### group by"
   ]
  },
  {
   "cell_type": "code",
   "execution_count": 95,
   "metadata": {},
   "outputs": [
    {
     "data": {
      "text/plain": [
       "[(153959198, 'F'), (148917415, 'M')]"
      ]
     },
     "execution_count": 95,
     "metadata": {},
     "output_type": "execute_result"
    }
   ],
   "source": [
    "# SELECT SUM(pop2008) as pop2008, sex FROM census\n",
    "query = db.select([\n",
    "    db.func.sum(census.columns.pop2008).label('pop2008'),\n",
    "    census.columns.sex\n",
    "]).group_by(census.columns.sex)\n",
    "\n",
    "result = connection.execute(query).fetchall()\n",
    "result[:3]"
   ]
  },
  {
   "cell_type": "markdown",
   "metadata": {},
   "source": [
    "#### distinct"
   ]
  },
  {
   "cell_type": "code",
   "execution_count": 96,
   "metadata": {},
   "outputs": [
    {
     "data": {
      "text/plain": [
       "[('Illinois',),\n",
       " ('New Jersey',),\n",
       " ('District of Columbia',),\n",
       " ('North Dakota',),\n",
       " ('Florida',),\n",
       " ('Maryland',),\n",
       " ('Idaho',),\n",
       " ('Massachusetts',),\n",
       " ('Oregon',),\n",
       " ('Nevada',),\n",
       " ('Michigan',),\n",
       " ('Wisconsin',),\n",
       " ('Missouri',),\n",
       " ('Washington',),\n",
       " ('North Carolina',),\n",
       " ('Arizona',),\n",
       " ('Arkansas',),\n",
       " ('Colorado',),\n",
       " ('Indiana',),\n",
       " ('Pennsylvania',),\n",
       " ('Hawaii',),\n",
       " ('Kansas',),\n",
       " ('Louisiana',),\n",
       " ('Alabama',),\n",
       " ('Minnesota',),\n",
       " ('South Dakota',),\n",
       " ('New York',),\n",
       " ('California',),\n",
       " ('Connecticut',),\n",
       " ('Ohio',),\n",
       " ('Rhode Island',),\n",
       " ('Georgia',),\n",
       " ('South Carolina',),\n",
       " ('Alaska',),\n",
       " ('Delaware',),\n",
       " ('Tennessee',),\n",
       " ('Vermont',),\n",
       " ('Montana',),\n",
       " ('Kentucky',),\n",
       " ('Utah',),\n",
       " ('Nebraska',),\n",
       " ('West Virginia',),\n",
       " ('Iowa',),\n",
       " ('Wyoming',),\n",
       " ('Maine',),\n",
       " ('New Hampshire',),\n",
       " ('Mississippi',),\n",
       " ('Oklahoma',),\n",
       " ('New Mexico',),\n",
       " ('Virginia',),\n",
       " ('Texas',)]"
      ]
     },
     "execution_count": 96,
     "metadata": {},
     "output_type": "execute_result"
    }
   ],
   "source": [
    "# SELECT DISTINCT state FROM census\n",
    "query = db.select([census.columns.state.distinct()])\n",
    "\n",
    "result = connection.execute(query).fetchall()\n",
    "result"
   ]
  },
  {
   "cell_type": "markdown",
   "metadata": {},
   "source": [
    "### Joins"
   ]
  },
  {
   "cell_type": "markdown",
   "metadata": {},
   "source": [
    "Si tiene dos tablas que ya tienen una relación establecida, puede usar esa relación automáticamente simplemente agregando las columnas que queremos de cada tabla a la declaración de selección.\n",
    "\n",
    "`select([census.columns.pop2008, state_fact.columns.abbreviation])`"
   ]
  },
  {
   "cell_type": "code",
   "execution_count": 97,
   "metadata": {},
   "outputs": [],
   "source": [
    "import sqlalchemy as db\n",
    "import pandas as pd\n",
    "\n",
    "engine = db.create_engine('sqlite:///census.sqlite')\n",
    "connection = engine.connect()\n",
    "metadata = db.MetaData()\n",
    "\n",
    "census = db.Table('census', metadata, autoload=True, autoload_with=engine)\n",
    "state_fact = db.Table('state_fact', metadata, autoload=True, autoload_with=engine)"
   ]
  },
  {
   "cell_type": "markdown",
   "metadata": {},
   "source": [
    "### Automatic Joins"
   ]
  },
  {
   "cell_type": "code",
   "execution_count": 98,
   "metadata": {},
   "outputs": [
    {
     "data": {
      "text/html": [
       "<div>\n",
       "<style scoped>\n",
       "    .dataframe tbody tr th:only-of-type {\n",
       "        vertical-align: middle;\n",
       "    }\n",
       "\n",
       "    .dataframe tbody tr th {\n",
       "        vertical-align: top;\n",
       "    }\n",
       "\n",
       "    .dataframe thead th {\n",
       "        text-align: right;\n",
       "    }\n",
       "</style>\n",
       "<table border=\"1\" class=\"dataframe\">\n",
       "  <thead>\n",
       "    <tr style=\"text-align: right;\">\n",
       "      <th></th>\n",
       "      <th>pop2008</th>\n",
       "      <th>abbreviation</th>\n",
       "    </tr>\n",
       "  </thead>\n",
       "  <tbody>\n",
       "    <tr>\n",
       "      <th>0</th>\n",
       "      <td>95012</td>\n",
       "      <td>IL</td>\n",
       "    </tr>\n",
       "    <tr>\n",
       "      <th>1</th>\n",
       "      <td>95012</td>\n",
       "      <td>NJ</td>\n",
       "    </tr>\n",
       "    <tr>\n",
       "      <th>2</th>\n",
       "      <td>95012</td>\n",
       "      <td>ND</td>\n",
       "    </tr>\n",
       "    <tr>\n",
       "      <th>3</th>\n",
       "      <td>95012</td>\n",
       "      <td>OR</td>\n",
       "    </tr>\n",
       "    <tr>\n",
       "      <th>4</th>\n",
       "      <td>95012</td>\n",
       "      <td>DC</td>\n",
       "    </tr>\n",
       "  </tbody>\n",
       "</table>\n",
       "</div>"
      ],
      "text/plain": [
       "   pop2008 abbreviation\n",
       "0    95012           IL\n",
       "1    95012           NJ\n",
       "2    95012           ND\n",
       "3    95012           OR\n",
       "4    95012           DC"
      ]
     },
     "execution_count": 98,
     "metadata": {},
     "output_type": "execute_result"
    }
   ],
   "source": [
    "query = db.select([census.columns.pop2008, state_fact.columns.abbreviation])\n",
    "result = connection.execute(query).fetchall()\n",
    "df = pd.DataFrame(result)\n",
    "df.columns = result[0].keys()\n",
    "df.head(5)"
   ]
  },
  {
   "cell_type": "markdown",
   "metadata": {},
   "source": [
    "### Manual Join"
   ]
  },
  {
   "cell_type": "code",
   "execution_count": 99,
   "metadata": {},
   "outputs": [
    {
     "data": {
      "text/html": [
       "<div>\n",
       "<style scoped>\n",
       "    .dataframe tbody tr th:only-of-type {\n",
       "        vertical-align: middle;\n",
       "    }\n",
       "\n",
       "    .dataframe tbody tr th {\n",
       "        vertical-align: top;\n",
       "    }\n",
       "\n",
       "    .dataframe thead th {\n",
       "        text-align: right;\n",
       "    }\n",
       "</style>\n",
       "<table border=\"1\" class=\"dataframe\">\n",
       "  <thead>\n",
       "    <tr style=\"text-align: right;\">\n",
       "      <th></th>\n",
       "      <th>state</th>\n",
       "      <th>sex</th>\n",
       "      <th>age</th>\n",
       "      <th>pop2000</th>\n",
       "      <th>pop2008</th>\n",
       "      <th>id</th>\n",
       "      <th>name</th>\n",
       "      <th>abbreviation</th>\n",
       "      <th>country</th>\n",
       "      <th>type</th>\n",
       "      <th>...</th>\n",
       "      <th>occupied</th>\n",
       "      <th>notes</th>\n",
       "      <th>fips_state</th>\n",
       "      <th>assoc_press</th>\n",
       "      <th>standard_federal_region</th>\n",
       "      <th>census_region</th>\n",
       "      <th>census_region_name</th>\n",
       "      <th>census_division</th>\n",
       "      <th>census_division_name</th>\n",
       "      <th>circuit_court</th>\n",
       "    </tr>\n",
       "  </thead>\n",
       "  <tbody>\n",
       "    <tr>\n",
       "      <th>0</th>\n",
       "      <td>Illinois</td>\n",
       "      <td>M</td>\n",
       "      <td>0</td>\n",
       "      <td>89600</td>\n",
       "      <td>95012</td>\n",
       "      <td>13</td>\n",
       "      <td>Illinois</td>\n",
       "      <td>IL</td>\n",
       "      <td>USA</td>\n",
       "      <td>state</td>\n",
       "      <td>...</td>\n",
       "      <td>occupied</td>\n",
       "      <td></td>\n",
       "      <td>17</td>\n",
       "      <td>Ill.</td>\n",
       "      <td>V</td>\n",
       "      <td>2</td>\n",
       "      <td>Midwest</td>\n",
       "      <td>3</td>\n",
       "      <td>East North Central</td>\n",
       "      <td>7</td>\n",
       "    </tr>\n",
       "    <tr>\n",
       "      <th>1</th>\n",
       "      <td>Illinois</td>\n",
       "      <td>M</td>\n",
       "      <td>1</td>\n",
       "      <td>88445</td>\n",
       "      <td>91829</td>\n",
       "      <td>13</td>\n",
       "      <td>Illinois</td>\n",
       "      <td>IL</td>\n",
       "      <td>USA</td>\n",
       "      <td>state</td>\n",
       "      <td>...</td>\n",
       "      <td>occupied</td>\n",
       "      <td></td>\n",
       "      <td>17</td>\n",
       "      <td>Ill.</td>\n",
       "      <td>V</td>\n",
       "      <td>2</td>\n",
       "      <td>Midwest</td>\n",
       "      <td>3</td>\n",
       "      <td>East North Central</td>\n",
       "      <td>7</td>\n",
       "    </tr>\n",
       "    <tr>\n",
       "      <th>2</th>\n",
       "      <td>Illinois</td>\n",
       "      <td>M</td>\n",
       "      <td>2</td>\n",
       "      <td>88729</td>\n",
       "      <td>89547</td>\n",
       "      <td>13</td>\n",
       "      <td>Illinois</td>\n",
       "      <td>IL</td>\n",
       "      <td>USA</td>\n",
       "      <td>state</td>\n",
       "      <td>...</td>\n",
       "      <td>occupied</td>\n",
       "      <td></td>\n",
       "      <td>17</td>\n",
       "      <td>Ill.</td>\n",
       "      <td>V</td>\n",
       "      <td>2</td>\n",
       "      <td>Midwest</td>\n",
       "      <td>3</td>\n",
       "      <td>East North Central</td>\n",
       "      <td>7</td>\n",
       "    </tr>\n",
       "    <tr>\n",
       "      <th>3</th>\n",
       "      <td>Illinois</td>\n",
       "      <td>M</td>\n",
       "      <td>3</td>\n",
       "      <td>88868</td>\n",
       "      <td>90037</td>\n",
       "      <td>13</td>\n",
       "      <td>Illinois</td>\n",
       "      <td>IL</td>\n",
       "      <td>USA</td>\n",
       "      <td>state</td>\n",
       "      <td>...</td>\n",
       "      <td>occupied</td>\n",
       "      <td></td>\n",
       "      <td>17</td>\n",
       "      <td>Ill.</td>\n",
       "      <td>V</td>\n",
       "      <td>2</td>\n",
       "      <td>Midwest</td>\n",
       "      <td>3</td>\n",
       "      <td>East North Central</td>\n",
       "      <td>7</td>\n",
       "    </tr>\n",
       "    <tr>\n",
       "      <th>4</th>\n",
       "      <td>Illinois</td>\n",
       "      <td>M</td>\n",
       "      <td>4</td>\n",
       "      <td>91947</td>\n",
       "      <td>91111</td>\n",
       "      <td>13</td>\n",
       "      <td>Illinois</td>\n",
       "      <td>IL</td>\n",
       "      <td>USA</td>\n",
       "      <td>state</td>\n",
       "      <td>...</td>\n",
       "      <td>occupied</td>\n",
       "      <td></td>\n",
       "      <td>17</td>\n",
       "      <td>Ill.</td>\n",
       "      <td>V</td>\n",
       "      <td>2</td>\n",
       "      <td>Midwest</td>\n",
       "      <td>3</td>\n",
       "      <td>East North Central</td>\n",
       "      <td>7</td>\n",
       "    </tr>\n",
       "  </tbody>\n",
       "</table>\n",
       "<p>5 rows × 22 columns</p>\n",
       "</div>"
      ],
      "text/plain": [
       "      state sex  age  pop2000  pop2008  id      name abbreviation country  \\\n",
       "0  Illinois   M    0    89600    95012  13  Illinois           IL     USA   \n",
       "1  Illinois   M    1    88445    91829  13  Illinois           IL     USA   \n",
       "2  Illinois   M    2    88729    89547  13  Illinois           IL     USA   \n",
       "3  Illinois   M    3    88868    90037  13  Illinois           IL     USA   \n",
       "4  Illinois   M    4    91947    91111  13  Illinois           IL     USA   \n",
       "\n",
       "    type  ...  occupied notes fips_state assoc_press standard_federal_region  \\\n",
       "0  state  ...  occupied               17        Ill.                       V   \n",
       "1  state  ...  occupied               17        Ill.                       V   \n",
       "2  state  ...  occupied               17        Ill.                       V   \n",
       "3  state  ...  occupied               17        Ill.                       V   \n",
       "4  state  ...  occupied               17        Ill.                       V   \n",
       "\n",
       "  census_region census_region_name census_division census_division_name  \\\n",
       "0             2            Midwest               3   East North Central   \n",
       "1             2            Midwest               3   East North Central   \n",
       "2             2            Midwest               3   East North Central   \n",
       "3             2            Midwest               3   East North Central   \n",
       "4             2            Midwest               3   East North Central   \n",
       "\n",
       "  circuit_court  \n",
       "0             7  \n",
       "1             7  \n",
       "2             7  \n",
       "3             7  \n",
       "4             7  \n",
       "\n",
       "[5 rows x 22 columns]"
      ]
     },
     "execution_count": 99,
     "metadata": {},
     "output_type": "execute_result"
    }
   ],
   "source": [
    "query = db.select([census, state_fact])\n",
    "query = query.select_from(\n",
    "    census.join(state_fact, census.columns.state == state_fact.columns.name))\n",
    "result = connection.execute(query).fetchall()\n",
    "\n",
    "df = pd.DataFrame(result)\n",
    "df.columns = result[0].keys()\n",
    "df.head(5)"
   ]
  },
  {
   "cell_type": "markdown",
   "metadata": {},
   "source": [
    "## Actualizando registros"
   ]
  },
  {
   "cell_type": "code",
   "execution_count": 100,
   "metadata": {},
   "outputs": [],
   "source": [
    "import sqlalchemy as db\n",
    "import pandas as pd"
   ]
  },
  {
   "cell_type": "code",
   "execution_count": 101,
   "metadata": {},
   "outputs": [],
   "source": [
    "engine = db.create_engine('sqlite:///test.sqlite')\n",
    "metadata = db.MetaData()\n",
    "connection = engine.connect()\n",
    "employee = db.Table('employee', metadata, autoload=True, autoload_with=engine)"
   ]
  },
  {
   "cell_type": "code",
   "execution_count": 102,
   "metadata": {},
   "outputs": [
    {
     "data": {
      "text/html": [
       "<div>\n",
       "<style scoped>\n",
       "    .dataframe tbody tr th:only-of-type {\n",
       "        vertical-align: middle;\n",
       "    }\n",
       "\n",
       "    .dataframe tbody tr th {\n",
       "        vertical-align: top;\n",
       "    }\n",
       "\n",
       "    .dataframe thead th {\n",
       "        text-align: right;\n",
       "    }\n",
       "</style>\n",
       "<table border=\"1\" class=\"dataframe\">\n",
       "  <thead>\n",
       "    <tr style=\"text-align: right;\">\n",
       "      <th></th>\n",
       "      <th>id</th>\n",
       "      <th>name</th>\n",
       "      <th>salary</th>\n",
       "      <th>active</th>\n",
       "    </tr>\n",
       "  </thead>\n",
       "  <tbody>\n",
       "    <tr>\n",
       "      <th>0</th>\n",
       "      <td>1</td>\n",
       "      <td>Maria</td>\n",
       "      <td>6000.0</td>\n",
       "      <td>True</td>\n",
       "    </tr>\n",
       "    <tr>\n",
       "      <th>1</th>\n",
       "      <td>2</td>\n",
       "      <td>Jose</td>\n",
       "      <td>8000.0</td>\n",
       "      <td>False</td>\n",
       "    </tr>\n",
       "    <tr>\n",
       "      <th>2</th>\n",
       "      <td>3</td>\n",
       "      <td>Carlos</td>\n",
       "      <td>7000.0</td>\n",
       "      <td>True</td>\n",
       "    </tr>\n",
       "  </tbody>\n",
       "</table>\n",
       "</div>"
      ],
      "text/plain": [
       "   id    name  salary  active\n",
       "0   1   Maria  6000.0    True\n",
       "1   2    Jose  8000.0   False\n",
       "2   3  Carlos  7000.0    True"
      ]
     },
     "execution_count": 102,
     "metadata": {},
     "output_type": "execute_result"
    }
   ],
   "source": [
    "results = connection.execute(db.select([employee])).fetchall()\n",
    "df = pd.DataFrame(results)\n",
    "df.columns = results[0].keys()\n",
    "df.head(4)"
   ]
  },
  {
   "cell_type": "code",
   "execution_count": 103,
   "metadata": {},
   "outputs": [],
   "source": [
    "# Build a statement to update the salary to 10000\n",
    "query = db.update(employee).values(salary = 10000)\n",
    "query = query.where(employee.columns.id == 1)\n",
    "results = connection.execute(query)"
   ]
  },
  {
   "cell_type": "code",
   "execution_count": 104,
   "metadata": {},
   "outputs": [
    {
     "data": {
      "text/html": [
       "<div>\n",
       "<style scoped>\n",
       "    .dataframe tbody tr th:only-of-type {\n",
       "        vertical-align: middle;\n",
       "    }\n",
       "\n",
       "    .dataframe tbody tr th {\n",
       "        vertical-align: top;\n",
       "    }\n",
       "\n",
       "    .dataframe thead th {\n",
       "        text-align: right;\n",
       "    }\n",
       "</style>\n",
       "<table border=\"1\" class=\"dataframe\">\n",
       "  <thead>\n",
       "    <tr style=\"text-align: right;\">\n",
       "      <th></th>\n",
       "      <th>id</th>\n",
       "      <th>name</th>\n",
       "      <th>salary</th>\n",
       "      <th>active</th>\n",
       "    </tr>\n",
       "  </thead>\n",
       "  <tbody>\n",
       "    <tr>\n",
       "      <th>0</th>\n",
       "      <td>1</td>\n",
       "      <td>Maria</td>\n",
       "      <td>10000.0</td>\n",
       "      <td>True</td>\n",
       "    </tr>\n",
       "    <tr>\n",
       "      <th>1</th>\n",
       "      <td>2</td>\n",
       "      <td>Jose</td>\n",
       "      <td>8000.0</td>\n",
       "      <td>False</td>\n",
       "    </tr>\n",
       "    <tr>\n",
       "      <th>2</th>\n",
       "      <td>3</td>\n",
       "      <td>Carlos</td>\n",
       "      <td>7000.0</td>\n",
       "      <td>True</td>\n",
       "    </tr>\n",
       "  </tbody>\n",
       "</table>\n",
       "</div>"
      ],
      "text/plain": [
       "   id    name   salary  active\n",
       "0   1   Maria  10000.0    True\n",
       "1   2    Jose   8000.0   False\n",
       "2   3  Carlos   7000.0    True"
      ]
     },
     "execution_count": 104,
     "metadata": {},
     "output_type": "execute_result"
    }
   ],
   "source": [
    "results = connection.execute(db.select([employee])).fetchall()\n",
    "df = pd.DataFrame(results)\n",
    "df.columns = results[0].keys()\n",
    "df.head(4)"
   ]
  },
  {
   "cell_type": "markdown",
   "metadata": {},
   "source": [
    "## Eliminando registros"
   ]
  },
  {
   "cell_type": "code",
   "execution_count": 105,
   "metadata": {},
   "outputs": [],
   "source": [
    "import sqlalchemy as db\n",
    "import pandas as pd"
   ]
  },
  {
   "cell_type": "code",
   "execution_count": 106,
   "metadata": {},
   "outputs": [],
   "source": [
    "engine = db.create_engine('sqlite:///test.sqlite')\n",
    "metadata = db.MetaData()\n",
    "connection = engine.connect()\n",
    "employee = db.Table('employee', metadata, autoload=True, autoload_with=engine)"
   ]
  },
  {
   "cell_type": "code",
   "execution_count": 107,
   "metadata": {},
   "outputs": [
    {
     "data": {
      "text/html": [
       "<div>\n",
       "<style scoped>\n",
       "    .dataframe tbody tr th:only-of-type {\n",
       "        vertical-align: middle;\n",
       "    }\n",
       "\n",
       "    .dataframe tbody tr th {\n",
       "        vertical-align: top;\n",
       "    }\n",
       "\n",
       "    .dataframe thead th {\n",
       "        text-align: right;\n",
       "    }\n",
       "</style>\n",
       "<table border=\"1\" class=\"dataframe\">\n",
       "  <thead>\n",
       "    <tr style=\"text-align: right;\">\n",
       "      <th></th>\n",
       "      <th>id</th>\n",
       "      <th>name</th>\n",
       "      <th>salary</th>\n",
       "      <th>active</th>\n",
       "    </tr>\n",
       "  </thead>\n",
       "  <tbody>\n",
       "    <tr>\n",
       "      <th>0</th>\n",
       "      <td>1</td>\n",
       "      <td>Maria</td>\n",
       "      <td>10000.0</td>\n",
       "      <td>True</td>\n",
       "    </tr>\n",
       "    <tr>\n",
       "      <th>1</th>\n",
       "      <td>2</td>\n",
       "      <td>Jose</td>\n",
       "      <td>8000.0</td>\n",
       "      <td>False</td>\n",
       "    </tr>\n",
       "    <tr>\n",
       "      <th>2</th>\n",
       "      <td>3</td>\n",
       "      <td>Carlos</td>\n",
       "      <td>7000.0</td>\n",
       "      <td>True</td>\n",
       "    </tr>\n",
       "  </tbody>\n",
       "</table>\n",
       "</div>"
      ],
      "text/plain": [
       "   id    name   salary  active\n",
       "0   1   Maria  10000.0    True\n",
       "1   2    Jose   8000.0   False\n",
       "2   3  Carlos   7000.0    True"
      ]
     },
     "execution_count": 107,
     "metadata": {},
     "output_type": "execute_result"
    }
   ],
   "source": [
    "results = connection.execute(db.select([emp])).fetchall()\n",
    "df = pd.DataFrame(results)\n",
    "df.columns = results[0].keys()\n",
    "df.head(4)"
   ]
  },
  {
   "cell_type": "code",
   "execution_count": 108,
   "metadata": {},
   "outputs": [],
   "source": [
    "# Build a statement to delete where salary < 100000\n",
    "query = db.delete(employee)\n",
    "query = query.where(employee.columns.salary == 10000)\n",
    "results = connection.execute(query)"
   ]
  },
  {
   "cell_type": "code",
   "execution_count": 109,
   "metadata": {},
   "outputs": [
    {
     "data": {
      "text/html": [
       "<div>\n",
       "<style scoped>\n",
       "    .dataframe tbody tr th:only-of-type {\n",
       "        vertical-align: middle;\n",
       "    }\n",
       "\n",
       "    .dataframe tbody tr th {\n",
       "        vertical-align: top;\n",
       "    }\n",
       "\n",
       "    .dataframe thead th {\n",
       "        text-align: right;\n",
       "    }\n",
       "</style>\n",
       "<table border=\"1\" class=\"dataframe\">\n",
       "  <thead>\n",
       "    <tr style=\"text-align: right;\">\n",
       "      <th></th>\n",
       "      <th>id</th>\n",
       "      <th>name</th>\n",
       "      <th>salary</th>\n",
       "      <th>active</th>\n",
       "    </tr>\n",
       "  </thead>\n",
       "  <tbody>\n",
       "    <tr>\n",
       "      <th>0</th>\n",
       "      <td>2</td>\n",
       "      <td>Jose</td>\n",
       "      <td>8000.0</td>\n",
       "      <td>False</td>\n",
       "    </tr>\n",
       "    <tr>\n",
       "      <th>1</th>\n",
       "      <td>3</td>\n",
       "      <td>Carlos</td>\n",
       "      <td>7000.0</td>\n",
       "      <td>True</td>\n",
       "    </tr>\n",
       "  </tbody>\n",
       "</table>\n",
       "</div>"
      ],
      "text/plain": [
       "   id    name  salary  active\n",
       "0   2    Jose  8000.0   False\n",
       "1   3  Carlos  7000.0    True"
      ]
     },
     "execution_count": 109,
     "metadata": {},
     "output_type": "execute_result"
    }
   ],
   "source": [
    "results = connection.execute(db.select([emp])).fetchall()\n",
    "df = pd.DataFrame(results)\n",
    "df.columns = results[0].keys()\n",
    "df.head(4)"
   ]
  },
  {
   "cell_type": "markdown",
   "metadata": {},
   "source": [
    "## Eliminando todo"
   ]
  },
  {
   "cell_type": "markdown",
   "metadata": {},
   "source": [
    "```\n",
    "table_name.drop(engine) #drops a single table\n",
    "metadata.drop_all(engine) #drops all the tables in the database\n",
    "```"
   ]
  },
  {
   "cell_type": "markdown",
   "metadata": {},
   "source": [
    "# Recursos"
   ]
  },
  {
   "cell_type": "markdown",
   "metadata": {},
   "source": [
    "https://www.sqlalchemy.org/\n",
    "\n",
    "https://www.blog.pythonlibrary.org/2010/02/03/another-step-by-step-sqlalchemy-tutorial-part-1-of-2/\n",
    "\n",
    "https://towardsdatascience.com/sqlalchemy-python-tutorial-79a577141a91\n",
    "\n",
    "https://overiq.com/sqlalchemy-101/crud-using-sqlalchemy-core/"
   ]
  },
  {
   "cell_type": "code",
   "execution_count": null,
   "metadata": {},
   "outputs": [],
   "source": []
  }
 ],
 "metadata": {
  "kernelspec": {
   "display_name": "Python 3",
   "language": "python",
   "name": "python3"
  },
  "language_info": {
   "codemirror_mode": {
    "name": "ipython",
    "version": 3
   },
   "file_extension": ".py",
   "mimetype": "text/x-python",
   "name": "python",
   "nbconvert_exporter": "python",
   "pygments_lexer": "ipython3",
   "version": "3.6.3"
  }
 },
 "nbformat": 4,
 "nbformat_minor": 2
}
